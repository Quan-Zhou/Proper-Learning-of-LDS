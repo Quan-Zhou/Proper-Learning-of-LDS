{
 "cells": [
  {
   "cell_type": "code",
   "execution_count": 1,
   "metadata": {},
   "outputs": [],
   "source": [
    "from ncpol2sdpa import*\n",
    "import scipy.io as sio\n",
    "import numpy as np\n",
    "from math import sqrt\n",
    "import matplotlib.pyplot as plt \n",
    "import pandas as pd\n",
    "import time"
   ]
  },
  {
   "cell_type": "code",
   "execution_count": 3,
   "metadata": {
    "collapsed": true
   },
   "outputs": [
    {
     "ename": "NameError",
     "evalue": "name 'seq' is not defined",
     "output_type": "error",
     "traceback": [
      "\u001b[1;31m---------------------------------------------------------------------------\u001b[0m",
      "\u001b[1;31mNameError\u001b[0m                                 Traceback (most recent call last)",
      "\u001b[1;32m<ipython-input-3-23f8bb890cf4>\u001b[0m in \u001b[0;36m<module>\u001b[1;34m\u001b[0m\n\u001b[0;32m      1\u001b[0m \u001b[0mf\u001b[0m\u001b[1;33m=\u001b[0m\u001b[0mopen\u001b[0m\u001b[1;33m(\u001b[0m\u001b[1;34m'stock-market.txt'\u001b[0m\u001b[1;33m,\u001b[0m\u001b[1;34m'w'\u001b[0m\u001b[1;33m)\u001b[0m\u001b[1;33m\u001b[0m\u001b[1;33m\u001b[0m\u001b[0m\n\u001b[1;32m----> 2\u001b[1;33m \u001b[1;32mfor\u001b[0m \u001b[0mele\u001b[0m \u001b[1;32min\u001b[0m \u001b[0mseq\u001b[0m\u001b[1;33m:\u001b[0m\u001b[1;33m\u001b[0m\u001b[1;33m\u001b[0m\u001b[0m\n\u001b[0m\u001b[0;32m      3\u001b[0m     \u001b[0mf\u001b[0m\u001b[1;33m.\u001b[0m\u001b[0mwrite\u001b[0m\u001b[1;33m(\u001b[0m\u001b[0mstr\u001b[0m\u001b[1;33m(\u001b[0m\u001b[0mele\u001b[0m\u001b[1;33m)\u001b[0m\u001b[1;33m+\u001b[0m\u001b[1;34m'\\n'\u001b[0m\u001b[1;33m)\u001b[0m\u001b[1;33m\u001b[0m\u001b[1;33m\u001b[0m\u001b[0m\n\u001b[0;32m      4\u001b[0m \u001b[0mf\u001b[0m\u001b[1;33m.\u001b[0m\u001b[0mclose\u001b[0m\u001b[1;33m(\u001b[0m\u001b[1;33m)\u001b[0m\u001b[1;33m\u001b[0m\u001b[1;33m\u001b[0m\u001b[0m\n",
      "\u001b[1;31mNameError\u001b[0m: name 'seq' is not defined"
     ]
    }
   ],
   "source": [
    "f=open('stock-market.txt','w')\n",
    "for ele in seq:\n",
    "    f.write(str(ele)+'\\n')\n",
    "f.close()"
   ]
  },
  {
   "cell_type": "code",
   "execution_count": 6,
   "metadata": {},
   "outputs": [
    {
     "name": "stdout",
     "output_type": "stream",
     "text": [
      "The problem has 23 noncommuting Hermitian variables\n",
      "Calculating block structure...\n",
      "Estimated number of SDP variables: 1127\n",
      "Generating moment matrix...\n",
      "Reduced number of SDP variables: 1127127 (done: 100.09%, ETA 00:00:-0.0)\n",
      "\u001b[KProcessing 20/20 constraints...\n"
     ]
    },
    {
     "name": "stderr",
     "output_type": "stream",
     "text": [
      "Warning: The objective function has a non-zero 4739.66224109 constant term. It is not included in the SDP objective.\n"
     ]
    },
    {
     "name": "stdout",
     "output_type": "stream",
     "text": [
      "The problem has 23 noncommuting Hermitian variables\n",
      "Calculating block structure...\n",
      "Estimated number of SDP variables: 1127\n",
      "Generating moment matrix...\n",
      "Reduced number of SDP variables: 1127127 (done: 100.09%, ETA 00:00:-0.0)\n",
      "\u001b[KProcessing 20/20 constraints...\n"
     ]
    },
    {
     "name": "stderr",
     "output_type": "stream",
     "text": [
      "Warning: The objective function has a non-zero 4739.66224109 constant term. It is not included in the SDP objective.\n"
     ]
    },
    {
     "name": "stdout",
     "output_type": "stream",
     "text": [
      "The problem has 23 noncommuting Hermitian variables\n",
      "Calculating block structure...\n",
      "Estimated number of SDP variables: 1127\n",
      "Generating moment matrix...\n",
      "Reduced number of SDP variables: 1127127 (done: 100.09%, ETA 00:00:-0.0)\n",
      "\u001b[KProcessing 20/20 constraints...\n"
     ]
    },
    {
     "name": "stderr",
     "output_type": "stream",
     "text": [
      "Warning: The objective function has a non-zero 4739.66224109 constant term. It is not included in the SDP objective.\n"
     ]
    },
    {
     "name": "stdout",
     "output_type": "stream",
     "text": [
      "The problem has 27 noncommuting Hermitian variables\n",
      "Calculating block structure...\n",
      "Estimated number of SDP variables: 1539\n",
      "Generating moment matrix...\n",
      "Reduced number of SDP variables: 1539539 (done: 100.06%, ETA 00:00:-0.0)\n",
      "\u001b[KProcessing 24/24 constraints..."
     ]
    },
    {
     "name": "stderr",
     "output_type": "stream",
     "text": [
      "Warning: The objective function has a non-zero 5695.86943185 constant term. It is not included in the SDP objective.\n"
     ]
    },
    {
     "name": "stdout",
     "output_type": "stream",
     "text": [
      "\n",
      "The problem has 27 noncommuting Hermitian variables\n",
      "Calculating block structure...\n",
      "Estimated number of SDP variables: 1539\n",
      "Generating moment matrix...\n",
      "Reduced number of SDP variables: 1539539 (done: 100.06%, ETA 00:00:-0.0)\n",
      "\u001b[KProcessing 24/24 constraints...\n"
     ]
    },
    {
     "name": "stderr",
     "output_type": "stream",
     "text": [
      "Warning: The objective function has a non-zero 5695.86943185 constant term. It is not included in the SDP objective.\n"
     ]
    },
    {
     "name": "stdout",
     "output_type": "stream",
     "text": [
      "The problem has 27 noncommuting Hermitian variables\n",
      "Calculating block structure...\n",
      "Estimated number of SDP variables: 1539\n",
      "Generating moment matrix...\n",
      "Reduced number of SDP variables: 1539539 (done: 100.06%, ETA 00:00:-0.0)\n",
      "\u001b[KProcessing 24/24 constraints...\n"
     ]
    },
    {
     "name": "stderr",
     "output_type": "stream",
     "text": [
      "Warning: The objective function has a non-zero 5695.86943185 constant term. It is not included in the SDP objective.\n"
     ]
    },
    {
     "name": "stdout",
     "output_type": "stream",
     "text": [
      "The problem has 31 noncommuting Hermitian variables\n",
      "Calculating block structure...\n",
      "Estimated number of SDP variables: 2015\n",
      "Generating moment matrix...\n",
      "Reduced number of SDP variables: 2015015 (done: 100.05%, ETA 00:00:-0.0)\n",
      "\u001b[KProcessing 28/28 constraints...\n"
     ]
    },
    {
     "name": "stderr",
     "output_type": "stream",
     "text": [
      "Warning: The objective function has a non-zero 6665.83685434 constant term. It is not included in the SDP objective.\n"
     ]
    },
    {
     "name": "stdout",
     "output_type": "stream",
     "text": [
      "The problem has 31 noncommuting Hermitian variables\n",
      "Calculating block structure...\n",
      "Estimated number of SDP variables: 2015\n",
      "Generating moment matrix...\n",
      "Reduced number of SDP variables: 2015015 (done: 100.05%, ETA 00:00:-0.0)\n",
      "\u001b[KProcessing 28/28 constraints...\n"
     ]
    },
    {
     "name": "stderr",
     "output_type": "stream",
     "text": [
      "Warning: The objective function has a non-zero 6665.83685434 constant term. It is not included in the SDP objective.\n"
     ]
    },
    {
     "name": "stdout",
     "output_type": "stream",
     "text": [
      "The problem has 31 noncommuting Hermitian variables\n",
      "Calculating block structure...\n",
      "Estimated number of SDP variables: 2015\n",
      "Generating moment matrix...\n",
      "Reduced number of SDP variables: 2015015 (done: 100.05%, ETA 00:00:-0.0)\n",
      "\u001b[KProcessing 28/28 constraints...\n"
     ]
    },
    {
     "name": "stderr",
     "output_type": "stream",
     "text": [
      "Warning: The objective function has a non-zero 6665.83685434 constant term. It is not included in the SDP objective.\n"
     ]
    },
    {
     "name": "stdout",
     "output_type": "stream",
     "text": [
      "The problem has 35 noncommuting Hermitian variables\n",
      "Calculating block structure...\n",
      "Estimated number of SDP variables: 2555\n",
      "Generating moment matrix...\n",
      "Reduced number of SDP variables: 2555555 (done: 100.04%, ETA 00:00:-0.0)\n",
      "\u001b[KProcessing 32/32 constraints...\n"
     ]
    },
    {
     "name": "stderr",
     "output_type": "stream",
     "text": [
      "Warning: The objective function has a non-zero 7614.13808459 constant term. It is not included in the SDP objective.\n"
     ]
    },
    {
     "name": "stdout",
     "output_type": "stream",
     "text": [
      "The problem has 35 noncommuting Hermitian variables\n",
      "Calculating block structure...\n",
      "Estimated number of SDP variables: 2555\n",
      "Generating moment matrix...\n",
      "Reduced number of SDP variables: 2555555 (done: 100.04%, ETA 00:00:-0.0)\n",
      "\u001b[KProcessing 32/32 constraints...\n"
     ]
    },
    {
     "name": "stderr",
     "output_type": "stream",
     "text": [
      "Warning: The objective function has a non-zero 7614.13808459 constant term. It is not included in the SDP objective.\n"
     ]
    },
    {
     "name": "stdout",
     "output_type": "stream",
     "text": [
      "The problem has 35 noncommuting Hermitian variables\n",
      "Calculating block structure...\n",
      "Estimated number of SDP variables: 2555\n",
      "Generating moment matrix...\n",
      "Reduced number of SDP variables: 2555555 (done: 100.04%, ETA 00:00:-0.0)\n",
      "\u001b[KProcessing 32/32 constraints...\n"
     ]
    },
    {
     "name": "stderr",
     "output_type": "stream",
     "text": [
      "Warning: The objective function has a non-zero 7614.13808459 constant term. It is not included in the SDP objective.\n"
     ]
    },
    {
     "name": "stdout",
     "output_type": "stream",
     "text": [
      "The problem has 39 noncommuting Hermitian variables\n",
      "Calculating block structure...\n",
      "Estimated number of SDP variables: 3159\n",
      "Generating moment matrix...\n",
      "Reduced number of SDP variables: 3159159 (done: 100.03%, ETA 00:00:-0.0)\n",
      "\u001b[KProcessing 36/36 constraints..."
     ]
    },
    {
     "name": "stderr",
     "output_type": "stream",
     "text": [
      "Warning: The objective function has a non-zero 8553.959076840001 constant term. It is not included in the SDP objective.\n"
     ]
    },
    {
     "name": "stdout",
     "output_type": "stream",
     "text": [
      "\n",
      "The problem has 39 noncommuting Hermitian variables\n",
      "Calculating block structure...\n",
      "Estimated number of SDP variables: 3159\n",
      "Generating moment matrix...\n",
      "\u001b[KCurrent number of SDP variables: 2999 (done: 94.97%, ETA 00:00:0.1)"
     ]
    },
    {
     "name": "stderr",
     "output_type": "stream",
     "text": [
      "IOPub message rate exceeded.\n",
      "The notebook server will temporarily stop sending output\n",
      "to the client in order to avoid crashing it.\n",
      "To change this limit, set the config variable\n",
      "`--NotebookApp.iopub_msg_rate_limit`.\n",
      "\n",
      "Current values:\n",
      "NotebookApp.iopub_msg_rate_limit=1000.0 (msgs/sec)\n",
      "NotebookApp.rate_limit_window=3.0 (secs)\n",
      "\n"
     ]
    },
    {
     "name": "stdout",
     "output_type": "stream",
     "text": [
      "The problem has 39 noncommuting Hermitian variables\n",
      "Calculating block structure...\n",
      "Estimated number of SDP variables: 3159\n",
      "Generating moment matrix...\n",
      "\u001b[KCurrent number of SDP variables: 2999 (done: 94.97%, ETA 00:00:0.1)"
     ]
    },
    {
     "name": "stderr",
     "output_type": "stream",
     "text": [
      "IOPub message rate exceeded.\n",
      "The notebook server will temporarily stop sending output\n",
      "to the client in order to avoid crashing it.\n",
      "To change this limit, set the config variable\n",
      "`--NotebookApp.iopub_msg_rate_limit`.\n",
      "\n",
      "Current values:\n",
      "NotebookApp.iopub_msg_rate_limit=1000.0 (msgs/sec)\n",
      "NotebookApp.rate_limit_window=3.0 (secs)\n",
      "\n"
     ]
    },
    {
     "name": "stdout",
     "output_type": "stream",
     "text": [
      "The problem has 43 noncommuting Hermitian variables\n",
      "Calculating block structure...\n",
      "Estimated number of SDP variables: 3827\n",
      "Generating moment matrix...\n",
      "\u001b[KCurrent number of SDP variables: 2999 (done: 78.39%, ETA 00:00:0.6)"
     ]
    },
    {
     "name": "stderr",
     "output_type": "stream",
     "text": [
      "IOPub message rate exceeded.\n",
      "The notebook server will temporarily stop sending output\n",
      "to the client in order to avoid crashing it.\n",
      "To change this limit, set the config variable\n",
      "`--NotebookApp.iopub_msg_rate_limit`.\n",
      "\n",
      "Current values:\n",
      "NotebookApp.iopub_msg_rate_limit=1000.0 (msgs/sec)\n",
      "NotebookApp.rate_limit_window=3.0 (secs)\n",
      "\n"
     ]
    },
    {
     "name": "stdout",
     "output_type": "stream",
     "text": [
      "Reduced number of SDP variables: 3827827 (done: 100.03%, ETA 00:00:-0.0)\n",
      "\u001b[KProcessing 36/40 constraints..."
     ]
    },
    {
     "name": "stderr",
     "output_type": "stream",
     "text": [
      "Warning: The objective function has a non-zero 9493.780069090002 constant term. It is not included in the SDP objective.\n"
     ]
    },
    {
     "name": "stdout",
     "output_type": "stream",
     "text": [
      "\u001b[KProcessing 40/40 constraints...\n",
      "The problem has 43 noncommuting Hermitian variables\n",
      "Calculating block structure...\n",
      "Estimated number of SDP variables: 3827\n",
      "Generating moment matrix...\n",
      "\u001b[KCurrent number of SDP variables: 2999 (done: 78.39%, ETA 00:00:0.6)"
     ]
    },
    {
     "name": "stderr",
     "output_type": "stream",
     "text": [
      "IOPub message rate exceeded.\n",
      "The notebook server will temporarily stop sending output\n",
      "to the client in order to avoid crashing it.\n",
      "To change this limit, set the config variable\n",
      "`--NotebookApp.iopub_msg_rate_limit`.\n",
      "\n",
      "Current values:\n",
      "NotebookApp.iopub_msg_rate_limit=1000.0 (msgs/sec)\n",
      "NotebookApp.rate_limit_window=3.0 (secs)\n",
      "\n"
     ]
    },
    {
     "name": "stdout",
     "output_type": "stream",
     "text": [
      "Reduced number of SDP variables: 3827827 (done: 100.03%, ETA 00:00:-0.0)\n",
      "\u001b[KProcessing 28/40 constraints..."
     ]
    },
    {
     "name": "stderr",
     "output_type": "stream",
     "text": [
      "Warning: The objective function has a non-zero 9493.780069090002 constant term. It is not included in the SDP objective.\n"
     ]
    },
    {
     "name": "stdout",
     "output_type": "stream",
     "text": [
      "\u001b[KProcessing 40/40 constraints...\n",
      "The problem has 43 noncommuting Hermitian variables\n",
      "Calculating block structure...\n",
      "Estimated number of SDP variables: 3827\n",
      "Generating moment matrix...\n",
      "\u001b[KCurrent number of SDP variables: 2999 (done: 78.39%, ETA 00:00:0.6)"
     ]
    },
    {
     "name": "stderr",
     "output_type": "stream",
     "text": [
      "IOPub message rate exceeded.\n",
      "The notebook server will temporarily stop sending output\n",
      "to the client in order to avoid crashing it.\n",
      "To change this limit, set the config variable\n",
      "`--NotebookApp.iopub_msg_rate_limit`.\n",
      "\n",
      "Current values:\n",
      "NotebookApp.iopub_msg_rate_limit=1000.0 (msgs/sec)\n",
      "NotebookApp.rate_limit_window=3.0 (secs)\n",
      "\n"
     ]
    },
    {
     "name": "stdout",
     "output_type": "stream",
     "text": [
      "Reduced number of SDP variables: 3827827 (done: 100.03%, ETA 00:00:-0.0)\n",
      "\u001b[KProcessing 28/40 constraints..."
     ]
    },
    {
     "name": "stderr",
     "output_type": "stream",
     "text": [
      "Warning: The objective function has a non-zero 9493.780069090002 constant term. It is not included in the SDP objective.\n"
     ]
    },
    {
     "name": "stdout",
     "output_type": "stream",
     "text": [
      "\u001b[KProcessing 40/40 constraints...\n",
      "The problem has 47 noncommuting Hermitian variables\n",
      "Calculating block structure...\n",
      "Estimated number of SDP variables: 4559\n",
      "Generating moment matrix...\n",
      "\u001b[KCurrent number of SDP variables: 2999 (done: 65.80%, ETA 00:00:1.1)"
     ]
    },
    {
     "name": "stderr",
     "output_type": "stream",
     "text": [
      "IOPub message rate exceeded.\n",
      "The notebook server will temporarily stop sending output\n",
      "to the client in order to avoid crashing it.\n",
      "To change this limit, set the config variable\n",
      "`--NotebookApp.iopub_msg_rate_limit`.\n",
      "\n",
      "Current values:\n",
      "NotebookApp.iopub_msg_rate_limit=1000.0 (msgs/sec)\n",
      "NotebookApp.rate_limit_window=3.0 (secs)\n",
      "\n"
     ]
    },
    {
     "name": "stdout",
     "output_type": "stream",
     "text": [
      "Reduced number of SDP variables: 4559559 (done: 100.02%, ETA 00:00:-0.0)\n",
      "\u001b[KProcessing 44/44 constraints...\n"
     ]
    },
    {
     "name": "stderr",
     "output_type": "stream",
     "text": [
      "Warning: The objective function has a non-zero 10433.60106134 constant term. It is not included in the SDP objective.\n"
     ]
    },
    {
     "name": "stdout",
     "output_type": "stream",
     "text": [
      "The problem has 47 noncommuting Hermitian variables\n",
      "Calculating block structure...\n",
      "Estimated number of SDP variables: 4559\n",
      "Generating moment matrix...\n",
      "\u001b[KCurrent number of SDP variables: 2999 (done: 65.80%, ETA 00:00:1.1)"
     ]
    },
    {
     "name": "stderr",
     "output_type": "stream",
     "text": [
      "IOPub message rate exceeded.\n",
      "The notebook server will temporarily stop sending output\n",
      "to the client in order to avoid crashing it.\n",
      "To change this limit, set the config variable\n",
      "`--NotebookApp.iopub_msg_rate_limit`.\n",
      "\n",
      "Current values:\n",
      "NotebookApp.iopub_msg_rate_limit=1000.0 (msgs/sec)\n",
      "NotebookApp.rate_limit_window=3.0 (secs)\n",
      "\n"
     ]
    },
    {
     "name": "stdout",
     "output_type": "stream",
     "text": [
      "Reduced number of SDP variables: 4559559 (done: 100.02%, ETA 00:00:-0.0)\n",
      "\u001b[KProcessing 44/44 constraints...\n"
     ]
    },
    {
     "name": "stderr",
     "output_type": "stream",
     "text": [
      "Warning: The objective function has a non-zero 10433.60106134 constant term. It is not included in the SDP objective.\n"
     ]
    },
    {
     "name": "stdout",
     "output_type": "stream",
     "text": [
      "The problem has 47 noncommuting Hermitian variables\n",
      "Calculating block structure...\n",
      "Estimated number of SDP variables: 4559\n",
      "Generating moment matrix...\n",
      "\u001b[KCurrent number of SDP variables: 3657 (done: 80.24%, ETA 00:00:0.7)"
     ]
    },
    {
     "name": "stderr",
     "output_type": "stream",
     "text": [
      "IOPub message rate exceeded.\n",
      "The notebook server will temporarily stop sending output\n",
      "to the client in order to avoid crashing it.\n",
      "To change this limit, set the config variable\n",
      "`--NotebookApp.iopub_msg_rate_limit`.\n",
      "\n",
      "Current values:\n",
      "NotebookApp.iopub_msg_rate_limit=1000.0 (msgs/sec)\n",
      "NotebookApp.rate_limit_window=3.0 (secs)\n",
      "\n"
     ]
    },
    {
     "name": "stdout",
     "output_type": "stream",
     "text": [
      "Reduced number of SDP variables: 4559559 (done: 100.02%, ETA 00:00:-0.0)\n",
      "\u001b[KProcessing 44/44 constraints...\n"
     ]
    },
    {
     "name": "stderr",
     "output_type": "stream",
     "text": [
      "Warning: The objective function has a non-zero 10433.60106134 constant term. It is not included in the SDP objective.\n"
     ]
    },
    {
     "name": "stdout",
     "output_type": "stream",
     "text": [
      "The problem has 51 noncommuting Hermitian variables\n",
      "Calculating block structure...\n",
      "Estimated number of SDP variables: 5355\n",
      "Generating moment matrix...\n",
      "\u001b[KCurrent number of SDP variables: 2999 (done: 56.02%, ETA 00:00:1.7)"
     ]
    },
    {
     "name": "stderr",
     "output_type": "stream",
     "text": [
      "IOPub message rate exceeded.\n",
      "The notebook server will temporarily stop sending output\n",
      "to the client in order to avoid crashing it.\n",
      "To change this limit, set the config variable\n",
      "`--NotebookApp.iopub_msg_rate_limit`.\n",
      "\n",
      "Current values:\n",
      "NotebookApp.iopub_msg_rate_limit=1000.0 (msgs/sec)\n",
      "NotebookApp.rate_limit_window=3.0 (secs)\n",
      "\n"
     ]
    },
    {
     "name": "stdout",
     "output_type": "stream",
     "text": [
      "Reduced number of SDP variables: 5355355 (done: 100.02%, ETA 00:00:-0.0)\n",
      "\u001b[KProcessing 48/48 constraints...\n"
     ]
    },
    {
     "name": "stderr",
     "output_type": "stream",
     "text": [
      "Warning: The objective function has a non-zero 11386.761714229999 constant term. It is not included in the SDP objective.\n"
     ]
    },
    {
     "name": "stdout",
     "output_type": "stream",
     "text": [
      "The problem has 51 noncommuting Hermitian variables\n",
      "Calculating block structure...\n",
      "Estimated number of SDP variables: 5355\n",
      "Generating moment matrix...\n",
      "\u001b[KCurrent number of SDP variables: 2999 (done: 56.02%, ETA 00:00:1.8)"
     ]
    },
    {
     "name": "stderr",
     "output_type": "stream",
     "text": [
      "IOPub message rate exceeded.\n",
      "The notebook server will temporarily stop sending output\n",
      "to the client in order to avoid crashing it.\n",
      "To change this limit, set the config variable\n",
      "`--NotebookApp.iopub_msg_rate_limit`.\n",
      "\n",
      "Current values:\n",
      "NotebookApp.iopub_msg_rate_limit=1000.0 (msgs/sec)\n",
      "NotebookApp.rate_limit_window=3.0 (secs)\n",
      "\n"
     ]
    },
    {
     "name": "stdout",
     "output_type": "stream",
     "text": [
      "Reduced number of SDP variables: 5355355 (done: 100.02%, ETA 00:00:-0.0)\n",
      "\u001b[KProcessing 48/48 constraints...\n"
     ]
    },
    {
     "name": "stderr",
     "output_type": "stream",
     "text": [
      "Warning: The objective function has a non-zero 11386.761714229999 constant term. It is not included in the SDP objective.\n"
     ]
    },
    {
     "name": "stdout",
     "output_type": "stream",
     "text": [
      "The problem has 51 noncommuting Hermitian variables\n",
      "Calculating block structure...\n",
      "Estimated number of SDP variables: 5355\n",
      "Generating moment matrix...\n",
      "Reduced number of SDP variables: 5355355 (done: 100.02%, ETA 00:00:-0.0)\n",
      "\u001b[KProcessing 25/48 constraints..."
     ]
    },
    {
     "name": "stderr",
     "output_type": "stream",
     "text": [
      "Warning: The objective function has a non-zero 11386.761714229999 constant term. It is not included in the SDP objective.\n"
     ]
    },
    {
     "name": "stdout",
     "output_type": "stream",
     "text": [
      "\u001b[KProcessing 48/48 constraints...\n",
      "The problem has 55 noncommuting Hermitian variables\n",
      "Calculating block structure...\n",
      "Estimated number of SDP variables: 6215\n",
      "Generating moment matrix...\n",
      "Reduced number of SDP variables: 6215215 (done: 100.02%, ETA 00:00:-0.0)\n",
      "\u001b[KProcessing 29/52 constraints..."
     ]
    },
    {
     "name": "stderr",
     "output_type": "stream",
     "text": [
      "Warning: The objective function has a non-zero 12349.684675229999 constant term. It is not included in the SDP objective.\n"
     ]
    },
    {
     "name": "stdout",
     "output_type": "stream",
     "text": [
      "\u001b[KProcessing 52/52 constraints...\n",
      "The problem has 55 noncommuting Hermitian variables\n",
      "Calculating block structure...\n",
      "Estimated number of SDP variables: 6215\n",
      "Generating moment matrix...\n",
      "Reduced number of SDP variables: 6215215 (done: 100.02%, ETA 00:00:-0.0)\n",
      "\u001b[KProcessing 31/52 constraints..."
     ]
    },
    {
     "name": "stderr",
     "output_type": "stream",
     "text": [
      "Warning: The objective function has a non-zero 12349.684675229999 constant term. It is not included in the SDP objective.\n"
     ]
    },
    {
     "name": "stdout",
     "output_type": "stream",
     "text": [
      "\u001b[KProcessing 52/52 constraints...\n",
      "The problem has 55 noncommuting Hermitian variables\n",
      "Calculating block structure...\n",
      "Estimated number of SDP variables: 6215\n",
      "Generating moment matrix...\n",
      "Reduced number of SDP variables: 6215215 (done: 100.02%, ETA 00:00:-0.0)\n",
      "\u001b[KProcessing 32/52 constraints..."
     ]
    },
    {
     "name": "stderr",
     "output_type": "stream",
     "text": [
      "Warning: The objective function has a non-zero 12349.684675229999 constant term. It is not included in the SDP objective.\n"
     ]
    },
    {
     "name": "stdout",
     "output_type": "stream",
     "text": [
      "\u001b[KProcessing 52/52 constraints...\n",
      "The problem has 59 noncommuting Hermitian variables\n",
      "Calculating block structure...\n",
      "Estimated number of SDP variables: 7139\n",
      "Generating moment matrix...\n",
      "Reduced number of SDP variables: 7139139 (done: 100.01%, ETA 00:00:-0.0)\n",
      "\u001b[KProcessing 26/56 constraints..."
     ]
    },
    {
     "name": "stderr",
     "output_type": "stream",
     "text": [
      "Warning: The objective function has a non-zero 13316.583700229998 constant term. It is not included in the SDP objective.\n"
     ]
    },
    {
     "name": "stdout",
     "output_type": "stream",
     "text": [
      "\u001b[KProcessing 56/56 constraints...\n",
      "The problem has 59 noncommuting Hermitian variables\n",
      "Calculating block structure...\n",
      "Estimated number of SDP variables: 7139\n",
      "Generating moment matrix...\n",
      "Reduced number of SDP variables: 7139139 (done: 100.01%, ETA 00:00:-0.0)\n",
      "\u001b[KProcessing 34/56 constraints..."
     ]
    },
    {
     "name": "stderr",
     "output_type": "stream",
     "text": [
      "Warning: The objective function has a non-zero 13316.583700229998 constant term. It is not included in the SDP objective.\n"
     ]
    },
    {
     "name": "stdout",
     "output_type": "stream",
     "text": [
      "\u001b[KProcessing 56/56 constraints...\n",
      "The problem has 59 noncommuting Hermitian variables\n",
      "Calculating block structure...\n",
      "Estimated number of SDP variables: 7139\n",
      "Generating moment matrix...\n",
      "Reduced number of SDP variables: 7139139 (done: 100.01%, ETA 00:00:-0.0)\n",
      "\u001b[KProcessing 26/56 constraints..."
     ]
    },
    {
     "name": "stderr",
     "output_type": "stream",
     "text": [
      "Warning: The objective function has a non-zero 13316.583700229998 constant term. It is not included in the SDP objective.\n"
     ]
    },
    {
     "name": "stdout",
     "output_type": "stream",
     "text": [
      "\u001b[KProcessing 56/56 constraints...\n",
      "The problem has 63 noncommuting Hermitian variables\n",
      "Calculating block structure...\n",
      "Estimated number of SDP variables: 8127\n",
      "Generating moment matrix...\n",
      "Reduced number of SDP variables: 8127127 (done: 100.01%, ETA 00:00:-0.0)\n",
      "\u001b[KProcessing 26/60 constraints..."
     ]
    },
    {
     "name": "stderr",
     "output_type": "stream",
     "text": [
      "Warning: The objective function has a non-zero 14283.79370023 constant term. It is not included in the SDP objective.\n"
     ]
    },
    {
     "name": "stdout",
     "output_type": "stream",
     "text": [
      "\u001b[KProcessing 60/60 constraints...\n",
      "The problem has 63 noncommuting Hermitian variables\n",
      "Calculating block structure...\n",
      "Estimated number of SDP variables: 8127\n",
      "Generating moment matrix...\n",
      "Reduced number of SDP variables: 8127127 (done: 100.01%, ETA 00:00:-0.0)\n",
      "\u001b[KProcessing 26/60 constraints..."
     ]
    },
    {
     "name": "stderr",
     "output_type": "stream",
     "text": [
      "Warning: The objective function has a non-zero 14283.79370023 constant term. It is not included in the SDP objective.\n"
     ]
    },
    {
     "name": "stdout",
     "output_type": "stream",
     "text": [
      "\u001b[KProcessing 60/60 constraints...\n",
      "The problem has 63 noncommuting Hermitian variables\n",
      "Calculating block structure...\n",
      "Estimated number of SDP variables: 8127\n",
      "Generating moment matrix...\n",
      "Reduced number of SDP variables: 8127127 (done: 100.01%, ETA 00:00:-0.0)\n",
      "\u001b[KProcessing 26/60 constraints..."
     ]
    },
    {
     "name": "stderr",
     "output_type": "stream",
     "text": [
      "Warning: The objective function has a non-zero 14283.79370023 constant term. It is not included in the SDP objective.\n"
     ]
    },
    {
     "name": "stdout",
     "output_type": "stream",
     "text": [
      "\u001b[KProcessing 60/60 constraints...\n",
      "The problem has 67 noncommuting Hermitian variables\n",
      "Calculating block structure...\n",
      "Estimated number of SDP variables: 9179\n",
      "Generating moment matrix...\n",
      "Reduced number of SDP variables: 9179179 (done: 100.01%, ETA 00:00:-0.0)\n",
      "\u001b[KProcessing 25/64 constraints..."
     ]
    },
    {
     "name": "stderr",
     "output_type": "stream",
     "text": [
      "Warning: The objective function has a non-zero 15241.219629520001 constant term. It is not included in the SDP objective.\n"
     ]
    },
    {
     "name": "stdout",
     "output_type": "stream",
     "text": [
      "\u001b[KProcessing 64/64 constraints...\n",
      "The problem has 67 noncommuting Hermitian variables\n",
      "Calculating block structure...\n",
      "Estimated number of SDP variables: 9179\n",
      "Generating moment matrix...\n",
      "Reduced number of SDP variables: 9179179 (done: 100.01%, ETA 00:00:-0.0)\n",
      "\u001b[KProcessing 23/64 constraints..."
     ]
    },
    {
     "name": "stderr",
     "output_type": "stream",
     "text": [
      "Warning: The objective function has a non-zero 15241.219629520001 constant term. It is not included in the SDP objective.\n"
     ]
    },
    {
     "name": "stdout",
     "output_type": "stream",
     "text": [
      "\u001b[KProcessing 64/64 constraints...\n",
      "The problem has 71 noncommuting Hermitian variables\n",
      "Calculating block structure...\n",
      "Estimated number of SDP variables: 10295\n",
      "Generating moment matrix...\n",
      "Reduced number of SDP variables: 10295295 (done: 100.01%, ETA 00:00:-0.0)\n",
      "\u001b[KProcessing 21/68 constraints..."
     ]
    },
    {
     "name": "stderr",
     "output_type": "stream",
     "text": [
      "Warning: The objective function has a non-zero 16209.96035468 constant term. It is not included in the SDP objective.\n"
     ]
    },
    {
     "name": "stdout",
     "output_type": "stream",
     "text": [
      "\u001b[KProcessing 68/68 constraints...\n",
      "The problem has 71 noncommuting Hermitian variables\n",
      "Calculating block structure...\n",
      "Estimated number of SDP variables: 10295\n",
      "Generating moment matrix...\n",
      "Reduced number of SDP variables: 10295295 (done: 100.01%, ETA 00:00:-0.0)\n",
      "\u001b[KProcessing 26/68 constraints..."
     ]
    },
    {
     "name": "stderr",
     "output_type": "stream",
     "text": [
      "Warning: The objective function has a non-zero 16209.96035468 constant term. It is not included in the SDP objective.\n"
     ]
    },
    {
     "name": "stdout",
     "output_type": "stream",
     "text": [
      "\u001b[KProcessing 68/68 constraints...\n",
      "The problem has 75 noncommuting Hermitian variables\n",
      "Calculating block structure...\n",
      "Estimated number of SDP variables: 11475\n",
      "Generating moment matrix...\n",
      "Reduced number of SDP variables: 11475475 (done: 100.01%, ETA 00:00:-0.0)\n",
      "\u001b[KProcessing 22/72 constraints..."
     ]
    },
    {
     "name": "stderr",
     "output_type": "stream",
     "text": [
      "Warning: The objective function has a non-zero 17193.47894789 constant term. It is not included in the SDP objective.\n"
     ]
    },
    {
     "name": "stdout",
     "output_type": "stream",
     "text": [
      "\u001b[KProcessing 72/72 constraints...\n",
      "The problem has 79 noncommuting Hermitian variables\n",
      "Calculating block structure...\n",
      "Estimated number of SDP variables: 12719\n",
      "Generating moment matrix...\n",
      "Reduced number of SDP variables: 12719719 (done: 100.01%, ETA 00:00:-0.0)\n",
      "\u001b[KProcessing 25/76 constraints..."
     ]
    },
    {
     "name": "stderr",
     "output_type": "stream",
     "text": [
      "Warning: The objective function has a non-zero 18184.74009438 constant term. It is not included in the SDP objective.\n"
     ]
    },
    {
     "name": "stdout",
     "output_type": "stream",
     "text": [
      "\u001b[KProcessing 76/76 constraints...\n",
      "The problem has 79 noncommuting Hermitian variables\n",
      "Calculating block structure...\n",
      "Estimated number of SDP variables: 12719\n",
      "Generating moment matrix...\n",
      "Reduced number of SDP variables: 12719719 (done: 100.01%, ETA 00:00:-0.0)\n",
      "\u001b[KProcessing 25/76 constraints..."
     ]
    },
    {
     "name": "stderr",
     "output_type": "stream",
     "text": [
      "Warning: The objective function has a non-zero 18184.74009438 constant term. It is not included in the SDP objective.\n"
     ]
    },
    {
     "name": "stdout",
     "output_type": "stream",
     "text": [
      "\u001b[KProcessing 76/76 constraints...\n",
      "The problem has 83 noncommuting Hermitian variables\n",
      "Calculating block structure...\n",
      "Estimated number of SDP variables: 14027\n",
      "Generating moment matrix...\n",
      "Reduced number of SDP variables: 14027027 (done: 100.01%, ETA 00:00:-0.0)\n",
      "\u001b[KProcessing 24/80 constraints..."
     ]
    },
    {
     "name": "stderr",
     "output_type": "stream",
     "text": [
      "Warning: The objective function has a non-zero 19149.80538463 constant term. It is not included in the SDP objective.\n"
     ]
    },
    {
     "name": "stdout",
     "output_type": "stream",
     "text": [
      "\u001b[KProcessing 80/80 constraints...\n",
      "The problem has 83 noncommuting Hermitian variables\n",
      "Calculating block structure...\n",
      "Estimated number of SDP variables: 14027\n",
      "Generating moment matrix...\n",
      "Reduced number of SDP variables: 14027027 (done: 100.01%, ETA 00:00:-0.0)\n",
      "\u001b[KProcessing 23/80 constraints..."
     ]
    },
    {
     "name": "stderr",
     "output_type": "stream",
     "text": [
      "Warning: The objective function has a non-zero 19149.80538463 constant term. It is not included in the SDP objective.\n"
     ]
    },
    {
     "name": "stdout",
     "output_type": "stream",
     "text": [
      "\u001b[KProcessing 80/80 constraints...\n",
      "The problem has 87 noncommuting Hermitian variables\n",
      "Calculating block structure...\n",
      "Estimated number of SDP variables: 15399\n",
      "Generating moment matrix...\n",
      "Reduced number of SDP variables: 15399399 (done: 100.01%, ETA 00:00:-0.0)\n",
      "\u001b[KProcessing 21/84 constraints..."
     ]
    },
    {
     "name": "stderr",
     "output_type": "stream",
     "text": [
      "Warning: The objective function has a non-zero 20122.846065589998 constant term. It is not included in the SDP objective.\n"
     ]
    },
    {
     "name": "stdout",
     "output_type": "stream",
     "text": [
      "\u001b[KProcessing 84/84 constraints...\n",
      "The problem has 87 noncommuting Hermitian variables\n",
      "Calculating block structure...\n",
      "Estimated number of SDP variables: 15399\n",
      "Generating moment matrix...\n",
      "Reduced number of SDP variables: 16835835 (done: 100.01%, ETA 00:00:-0.0)\n",
      "\u001b[KProcessing 19/88 constraints..."
     ]
    },
    {
     "name": "stderr",
     "output_type": "stream",
     "text": [
      "Warning: The objective function has a non-zero 21085.45874159 constant term. It is not included in the SDP objective.\n"
     ]
    },
    {
     "name": "stdout",
     "output_type": "stream",
     "text": [
      "\u001b[KProcessing 88/88 constraints...\n",
      "The problem has 91 noncommuting Hermitian variables\n",
      "Calculating block structure...\n",
      "Estimated number of SDP variables: 16835\n",
      "Generating moment matrix...\n",
      "Reduced number of SDP variables: 18335335 (done: 100.01%, ETA 00:00:-0.0)\n",
      "\u001b[KProcessing 25/92 constraints..."
     ]
    },
    {
     "name": "stderr",
     "output_type": "stream",
     "text": [
      "Warning: The objective function has a non-zero 22041.35673135 constant term. It is not included in the SDP objective.\n"
     ]
    },
    {
     "name": "stdout",
     "output_type": "stream",
     "text": [
      "\u001b[KProcessing 92/92 constraints...\n",
      "The problem has 95 noncommuting Hermitian variables\n",
      "Calculating block structure...\n",
      "Estimated number of SDP variables: 18335\n",
      "Generating moment matrix...\n",
      "Reduced number of SDP variables: 18335335 (done: 100.01%, ETA 00:00:-0.0)\n",
      "\u001b[KProcessing 27/92 constraints..."
     ]
    },
    {
     "name": "stderr",
     "output_type": "stream",
     "text": [
      "Warning: The objective function has a non-zero 22041.35673135 constant term. It is not included in the SDP objective.\n"
     ]
    },
    {
     "name": "stdout",
     "output_type": "stream",
     "text": [
      "\u001b[KProcessing 92/92 constraints...\n",
      "The problem has 99 noncommuting Hermitian variables\n",
      "Calculating block structure...\n",
      "Estimated number of SDP variables: 19899\n",
      "Generating moment matrix...\n",
      "Reduced number of SDP variables: 19899899 (done: 100.01%, ETA 00:00:-0.0)\n",
      "\u001b[KProcessing 22/96 constraints..."
     ]
    },
    {
     "name": "stderr",
     "output_type": "stream",
     "text": [
      "Warning: The objective function has a non-zero 22982.99346456 constant term. It is not included in the SDP objective.\n"
     ]
    },
    {
     "name": "stdout",
     "output_type": "stream",
     "text": [
      "\u001b[KProcessing 96/96 constraints...\n",
      "The problem has 99 noncommuting Hermitian variables\n",
      "Calculating block structure...\n",
      "Estimated number of SDP variables: 19899\n",
      "Generating moment matrix...\n",
      "\u001b[KProcessing 24/96 constraints...: 17270 (done: 86.79%, ETA 00:00:5.0))"
     ]
    },
    {
     "name": "stderr",
     "output_type": "stream",
     "text": [
      "Warning: The objective function has a non-zero 22982.99346456 constant term. It is not included in the SDP objective.\n"
     ]
    },
    {
     "name": "stdout",
     "output_type": "stream",
     "text": [
      "\u001b[KProcessing 96/96 constraints...\n",
      "The problem has 103 noncommuting Hermitian variables\n",
      "Calculating block structure...\n",
      "Estimated number of SDP variables: 21527\n",
      "Generating moment matrix...\n",
      "Reduced number of SDP variables: 21527527 (done: 100.00%, ETA 00:00:-0.0)\n",
      "\u001b[KProcessing 24/100 constraints..."
     ]
    },
    {
     "name": "stderr",
     "output_type": "stream",
     "text": [
      "Warning: The objective function has a non-zero 23915.581231450004 constant term. It is not included in the SDP objective.\n"
     ]
    },
    {
     "name": "stdout",
     "output_type": "stream",
     "text": [
      "\u001b[KProcessing 100/100 constraints...\n",
      "The problem has 103 noncommuting Hermitian variables\n",
      "Calculating block structure...\n",
      "Estimated number of SDP variables: 21527\n",
      "Generating moment matrix...\n",
      "Reduced number of SDP variables: 21527527 (done: 100.00%, ETA 00:00:-0.0)\n",
      "\u001b[KProcessing 22/100 constraints..."
     ]
    },
    {
     "name": "stderr",
     "output_type": "stream",
     "text": [
      "Warning: The objective function has a non-zero 23915.581231450004 constant term. It is not included in the SDP objective.\n"
     ]
    },
    {
     "name": "stdout",
     "output_type": "stream",
     "text": [
      "\u001b[KProcessing 100/100 constraints...\n",
      "The problem has 107 noncommuting Hermitian variables\n",
      "Calculating block structure...\n",
      "Estimated number of SDP variables: 23219\n",
      "Generating moment matrix...\n",
      "\u001b[KCurrent number of SDP variables: 22579 (done: 97.25%, ETA 00:00:1.3))The problem has 107 noncommuting Hermitian variables\n",
      "Calculating block structure...\n",
      "Estimated number of SDP variables: 23219\n",
      "Generating moment matrix...\n",
      "Reduced number of SDP variables: 23219219 (done: 100.00%, ETA 00:00:-0.0)\n",
      "\u001b[KProcessing 26/104 constraints..."
     ]
    },
    {
     "name": "stderr",
     "output_type": "stream",
     "text": [
      "Warning: The objective function has a non-zero 24859.029314810003 constant term. It is not included in the SDP objective.\n"
     ]
    },
    {
     "name": "stdout",
     "output_type": "stream",
     "text": [
      "\u001b[KProcessing 104/104 constraints...\n",
      "The problem has 111 noncommuting Hermitian variables\n",
      "Calculating block structure...\n",
      "Estimated number of SDP variables: 24975\n",
      "Generating moment matrix...\n",
      "Reduced number of SDP variables: 24975975 (done: 100.00%, ETA 00:00:-0.0)\n",
      "\u001b[KProcessing 21/108 constraints..."
     ]
    },
    {
     "name": "stderr",
     "output_type": "stream",
     "text": [
      "Warning: The objective function has a non-zero 25814.321415650003 constant term. It is not included in the SDP objective.\n"
     ]
    },
    {
     "name": "stdout",
     "output_type": "stream",
     "text": [
      "\u001b[KProcessing 108/108 constraints...\n",
      "The problem has 115 noncommuting Hermitian variables\n",
      "Calculating block structure...\n",
      "Estimated number of SDP variables: 26795\n",
      "Generating moment matrix...\n",
      "Reduced number of SDP variables: 26795795 (done: 100.00%, ETA 00:00:-0.0)\n",
      "\u001b[KProcessing 23/112 constraints..."
     ]
    },
    {
     "name": "stderr",
     "output_type": "stream",
     "text": [
      "Warning: The objective function has a non-zero 26757.468510140003 constant term. It is not included in the SDP objective.\n"
     ]
    },
    {
     "name": "stdout",
     "output_type": "stream",
     "text": [
      "\u001b[KProcessing 112/112 constraints...\n",
      "The problem has 115 noncommuting Hermitian variables\n",
      "Calculating block structure...\n",
      "Estimated number of SDP variables: 26795\n",
      "Generating moment matrix...\n",
      "Reduced number of SDP variables: 26795795 (done: 100.00%, ETA 00:00:-0.0)\n",
      "\u001b[KProcessing 20/112 constraints..."
     ]
    },
    {
     "name": "stderr",
     "output_type": "stream",
     "text": [
      "Warning: The objective function has a non-zero 26757.468510140003 constant term. It is not included in the SDP objective.\n"
     ]
    },
    {
     "name": "stdout",
     "output_type": "stream",
     "text": [
      "\u001b[KProcessing 112/112 constraints...\n",
      "The problem has 119 noncommuting Hermitian variables\n",
      "Calculating block structure...\n",
      "Estimated number of SDP variables: 28679\n",
      "Generating moment matrix...\n",
      "Reduced number of SDP variables: 28679679 (done: 100.00%, ETA 00:00:-0.0)\n",
      "\u001b[KProcessing 20/116 constraints..."
     ]
    },
    {
     "name": "stderr",
     "output_type": "stream",
     "text": [
      "Warning: The objective function has a non-zero 27685.846752630005 constant term. It is not included in the SDP objective.\n"
     ]
    },
    {
     "name": "stdout",
     "output_type": "stream",
     "text": [
      "\u001b[KProcessing 116/116 constraints...\n",
      "The problem has 119 noncommuting Hermitian variables\n",
      "Calculating block structure...\n",
      "Estimated number of SDP variables: 28679\n",
      "Generating moment matrix...\n",
      "Reduced number of SDP variables: 28679679 (done: 100.00%, ETA 00:00:-0.0)\n",
      "\u001b[KProcessing 26/116 constraints..."
     ]
    },
    {
     "name": "stderr",
     "output_type": "stream",
     "text": [
      "Warning: The objective function has a non-zero 27685.846752630005 constant term. It is not included in the SDP objective.\n"
     ]
    },
    {
     "name": "stdout",
     "output_type": "stream",
     "text": [
      "\u001b[KProcessing 116/116 constraints...\n",
      "The problem has 123 noncommuting Hermitian variables\n",
      "Calculating block structure...\n",
      "Estimated number of SDP variables: 30627\n",
      "Generating moment matrix...\n",
      "\u001b[KProcessing 120/120 constraints...29728 (done: 97.07%, ETA 00:00:1.7))\n",
      "The problem has 123 noncommuting Hermitian variables\n",
      "Calculating block structure...\n",
      "Estimated number of SDP variables: 30627\n",
      "Generating moment matrix...\n",
      "Reduced number of SDP variables: 30627627 (done: 100.00%, ETA 00:00:-0.0)\n",
      "\u001b[KProcessing 27/120 constraints..."
     ]
    },
    {
     "name": "stderr",
     "output_type": "stream",
     "text": [
      "Warning: The objective function has a non-zero 28619.033166240002 constant term. It is not included in the SDP objective.\n"
     ]
    },
    {
     "name": "stdout",
     "output_type": "stream",
     "text": [
      "\u001b[KProcessing 120/120 constraints...\n"
     ]
    }
   ],
   "source": [
    "experiment=open('stock_experiment_time.csv','a')\n",
    "\n",
    "# Load stock-market data\n",
    "load_path = 'setting6.mat'\n",
    "load_data = sio.loadmat(load_path)\n",
    "seq=flatten(load_data['seq_d0'].tolist())\n",
    "level = 1\n",
    "\n",
    "# Experiments\n",
    "for T in range(5,31):\n",
    "    R=np.zeros(3)\n",
    "    for r in range(3):\n",
    "        \n",
    "        if (T>15)&(r>1):\n",
    "            continue\n",
    "        else:\n",
    "            \n",
    "            Y=seq[0:T]\n",
    "\n",
    "            # Decision Variables\n",
    "            G = generate_operators(\"G\", n_vars=1, hermitian=False, commutative=False)[0]\n",
    "            Fdash = generate_operators(\"Fdash\", n_vars=1, hermitian=False, commutative=False)[0]\n",
    "            m = generate_operators(\"m\", n_vars=T+1, hermitian=False, commutative=False)\n",
    "            q = generate_operators(\"q\", n_vars=T, hermitian=False, commutative=False)\n",
    "            p = generate_operators(\"p\", n_vars=T, hermitian=False, commutative=False)\n",
    "            f = generate_operators(\"f\", n_vars=T, hermitian=False, commutative=False)\n",
    "\n",
    "            # Objective\n",
    "            obj = sum((Y[i]-f[i])**2 for i in range(T)) + 0.1*sum(p[i]**2 for i in range(T)) \n",
    "\n",
    "            # Constraints\n",
    "            ine1 = [f[i] - Fdash*m[i+1] - p[i] for i in range(T)]\n",
    "            ine2 = [-f[i] + Fdash*m[i+1] + p[i] for i in range(T)]\n",
    "            ine4 = [m[i+1] - G*m[i] - q[i] for i in range(T)]\n",
    "            ine5 = [-m[i+1] + G*m[i] + q[i] for i in range(T)]\n",
    "\n",
    "            ines = ine1+ine2+ine4+ine5\n",
    "\n",
    "            # Solve the NCPO\n",
    "            start = time.time()\n",
    "\n",
    "            sdp = SdpRelaxation(variables = flatten([G,Fdash,f,p,m,q]), verbose = 2)\n",
    "            sdp.get_relaxation(level, objective=obj, inequalities=ines)\n",
    "            \n",
    "            if (T<15):\n",
    "                sdp.solve(solver='sdpa', solverparameters={\"executable\":\"sdpa_gmp\",\"executable\": \"C:\\\\Users\\\\zhouq\\\\Documents\\\\sdpa7-windows\\\\sdpa.exe\"})\n",
    "                end = time.time()\n",
    "                R[r]=end-start\n",
    "            else:\n",
    "                continue\n",
    "                \n",
    "    if (T<15):\n",
    "        print(np.mean(R),\",\",np.std(R),\",\",sdp.n_vars,file=experiment)\n",
    "    else:\n",
    "        print(\" , ,\",sdp.n_vars,file=experiment)\n",
    "\n",
    "experiment.close()\n",
    "\n"
   ]
  }
 ],
 "metadata": {
  "kernelspec": {
   "display_name": "Python 3",
   "language": "python",
   "name": "python3"
  },
  "language_info": {
   "codemirror_mode": {
    "name": "ipython",
    "version": 3
   },
   "file_extension": ".py",
   "mimetype": "text/x-python",
   "name": "python",
   "nbconvert_exporter": "python",
   "pygments_lexer": "ipython3",
   "version": "3.7.7"
  }
 },
 "nbformat": 4,
 "nbformat_minor": 4
}
