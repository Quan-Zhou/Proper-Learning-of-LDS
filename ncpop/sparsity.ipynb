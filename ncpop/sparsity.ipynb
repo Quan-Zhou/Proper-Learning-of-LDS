{
 "cells": [
  {
   "cell_type": "code",
   "execution_count": 1,
   "metadata": {},
   "outputs": [],
   "source": [
    "from ncpol2sdpa import*\n",
    "import numpy as np\n",
    "import pandas as pd\n",
    "from math import sqrt\n",
    "import matplotlib.pyplot as plt\n",
    "import sys\n",
    "sys.path.append(\"C:/Users/zhouq/Documents/OnlineLDS-master\") \n",
    "from inputlds import*\n",
    "from scipy.stats import unitary_group"
   ]
  },
  {
   "cell_type": "code",
   "execution_count": 5,
   "metadata": {},
   "outputs": [],
   "source": [
    "def data_generation(g,f_dash,proc_noise_std,obs_noise_std,T):\n",
    "# Generate Dynamic System ds1\n",
    "    dim=len(g)\n",
    "    ds1 = dynamical_system(g,np.zeros((dim,1)),f_dash,np.zeros((1,1)),\n",
    "          process_noise='gaussian',\n",
    "          observation_noise='gaussian', \n",
    "          process_noise_std=proc_noise_std, \n",
    "          observation_noise_std=obs_noise_std)\n",
    "    h0= np.ones(ds1.d)\n",
    "    inputs = np.zeros(T)\n",
    "    ds1.solve(h0=h0, inputs=inputs, T=T)    \n",
    "    Y=[]\n",
    "    for i in range (0,T):\n",
    "        Y.append(ds1.outputs[i].tolist())\n",
    "    Y = flatten(Y)\n",
    "    return Y"
   ]
  },
  {
   "cell_type": "code",
   "execution_count": 8,
   "metadata": {},
   "outputs": [],
   "source": [
    "def SimCom_sparsity(Y,T,level):\n",
    "# Define a function for solving the NCPO problems with \n",
    "# given standard deviations of process noise and observtion noise,\n",
    "# length of  estimation data and required relaxation level. \n",
    "\n",
    "    # Decision Variables\n",
    "    G = generate_operators(\"G\", n_vars=1, hermitian=True, commutative=False)[0]\n",
    "    Fdash = generate_operators(\"Fdash\", n_vars=1, hermitian=True, commutative=False)[0]\n",
    "    m = generate_operators(\"m\", n_vars=T+1, hermitian=True, commutative=False)\n",
    "    q = generate_operators(\"q\", n_vars=T, hermitian=True, commutative=False)\n",
    "    p = generate_operators(\"p\", n_vars=T, hermitian=True, commutative=True)\n",
    "    f = generate_operators(\"f\", n_vars=T, hermitian=True, commutative=True)\n",
    "\n",
    "    # Objective\n",
    "    obj = sum((Y[i]-f[i])**2 for i in range(T)) + 0.0005*sum(p[i]**2 for i in range(T)) + 0.0001*sum(q[i]**2 for i in range(T))\n",
    "\n",
    "    #ine5 = [m[T+1] - G*m[T],-m[T+1] + G*m[T]]\n",
    "    # Constraints\n",
    "    ine1 = [ f[i] - Fdash*m[i+1] - p[i] for i in range(T)]\n",
    "    ine2 = [-f[i] + Fdash*m[i+1] + p[i] for i in range(T)]\n",
    "    ine3 = [ m[i+1] - G*m[i] - q[i] for i in range(T)]\n",
    "    ine4 = [-m[i+1] + G*m[i] + q[i] for i in range(T)]\n",
    "    ines = ine1+ine2+ine3+ine4 #+ine6\n",
    "\n",
    "    # Solve the NCPO\n",
    "    sdp = SdpRelaxation(variables = flatten([G,Fdash,f,p,m,q]),verbose = 2)\n",
    "    sdp.get_relaxation(level, objective=obj, inequalities=ines)\n",
    "    sdp.write_to_file('data/sdpa_'+str(T)+'.dat-s')"
   ]
  },
  {
   "cell_type": "code",
   "execution_count": 6,
   "metadata": {},
   "outputs": [],
   "source": [
    "#T=6\n",
    "level=1\n",
    "nx=2\n",
    "g=np.eye(nx)+np.random.rand(nx,nx)*10**(-2)\n",
    "f_dash = np.matrix([[1.0]*nx])\n",
    "proc_noise_std=0.5\n",
    "obs_noise_std=0.5"
   ]
  },
  {
   "cell_type": "code",
   "execution_count": 9,
   "metadata": {},
   "outputs": [
    {
     "name": "stdout",
     "output_type": "stream",
     "text": [
      "The problem has 12 commuting, 15 noncommuting Hermitian variables\n",
      "Calculating block structure...\n",
      "Estimated number of SDP variables: 405\n",
      "Generating moment matrix...\n",
      "Reduced number of SDP variables: 405405 (done: 100.25%, ETA 00:00:-0.0)\n",
      "\u001b[KProcessing 24/24 constraints..."
     ]
    },
    {
     "name": "stderr",
     "output_type": "stream",
     "text": [
      "Warning: The objective function has a non-zero 89.56347193843318 constant term. It is not included in the SDP objective.\n"
     ]
    },
    {
     "name": "stdout",
     "output_type": "stream",
     "text": [
      "\n",
      "The problem has 14 commuting, 17 noncommuting Hermitian variables\n",
      "Calculating block structure...\n",
      "Estimated number of SDP variables: 527\n",
      "Generating moment matrix...\n",
      "Reduced number of SDP variables: 527527 (done: 100.19%, ETA 00:00:-0.0)\n",
      "\u001b[KProcessing 28/28 constraints...\n"
     ]
    },
    {
     "name": "stderr",
     "output_type": "stream",
     "text": [
      "Warning: The objective function has a non-zero 31.08878141641631 constant term. It is not included in the SDP objective.\n"
     ]
    },
    {
     "name": "stdout",
     "output_type": "stream",
     "text": [
      "The problem has 16 commuting, 19 noncommuting Hermitian variables\n",
      "Calculating block structure...\n",
      "Estimated number of SDP variables: 665\n",
      "Generating moment matrix...\n",
      "Reduced number of SDP variables: 665665 (done: 100.15%, ETA 00:00:-0.0)\n",
      "\u001b[KProcessing 32/32 constraints..."
     ]
    },
    {
     "name": "stderr",
     "output_type": "stream",
     "text": [
      "Warning: The objective function has a non-zero 1.0415706566377705 constant term. It is not included in the SDP objective.\n"
     ]
    },
    {
     "name": "stdout",
     "output_type": "stream",
     "text": [
      "\n",
      "The problem has 18 commuting, 21 noncommuting Hermitian variables\n",
      "Calculating block structure...\n",
      "Estimated number of SDP variables: 819\n",
      "Generating moment matrix...\n",
      "Reduced number of SDP variables: 819819 (done: 100.12%, ETA 00:00:-0.0)\n",
      "\u001b[KProcessing 33/36 constraints..."
     ]
    },
    {
     "name": "stderr",
     "output_type": "stream",
     "text": [
      "Warning: The objective function has a non-zero 24.088833537653908 constant term. It is not included in the SDP objective.\n"
     ]
    },
    {
     "name": "stdout",
     "output_type": "stream",
     "text": [
      "\u001b[KProcessing 36/36 constraints...\n",
      "The problem has 20 commuting, 23 noncommuting Hermitian variables\n",
      "Calculating block structure...\n",
      "Estimated number of SDP variables: 989\n",
      "Generating moment matrix...\n",
      "Reduced number of SDP variables: 989989 (done: 100.10%, ETA 00:00:-0.0)\n",
      "\u001b[KProcessing 34/40 constraints..."
     ]
    },
    {
     "name": "stderr",
     "output_type": "stream",
     "text": [
      "Warning: The objective function has a non-zero 135.8334623305052 constant term. It is not included in the SDP objective.\n"
     ]
    },
    {
     "name": "stdout",
     "output_type": "stream",
     "text": [
      "\u001b[KProcessing 40/40 constraints...\n",
      "The problem has 22 commuting, 25 noncommuting Hermitian variables\n",
      "Calculating block structure...\n",
      "Estimated number of SDP variables: 1175\n",
      "Generating moment matrix...\n",
      "Reduced number of SDP variables: 1175175 (done: 100.09%, ETA 00:00:-0.0)\n",
      "\u001b[KProcessing 28/44 constraints..."
     ]
    },
    {
     "name": "stderr",
     "output_type": "stream",
     "text": [
      "Warning: The objective function has a non-zero 6.3300568455067285 constant term. It is not included in the SDP objective.\n"
     ]
    },
    {
     "name": "stdout",
     "output_type": "stream",
     "text": [
      "\u001b[KProcessing 44/44 constraints...\n",
      "The problem has 24 commuting, 27 noncommuting Hermitian variables\n",
      "Calculating block structure...\n",
      "Estimated number of SDP variables: 1377\n",
      "Generating moment matrix...\n",
      "Reduced number of SDP variables: 1377377 (done: 100.07%, ETA 00:00:-0.0)\n",
      "\u001b[KProcessing 31/48 constraints..."
     ]
    },
    {
     "name": "stderr",
     "output_type": "stream",
     "text": [
      "Warning: The objective function has a non-zero 123.56922557311651 constant term. It is not included in the SDP objective.\n"
     ]
    },
    {
     "name": "stdout",
     "output_type": "stream",
     "text": [
      "\u001b[KProcessing 48/48 constraints...\n",
      "The problem has 26 commuting, 29 noncommuting Hermitian variables\n",
      "Calculating block structure...\n",
      "Estimated number of SDP variables: 1595\n",
      "Generating moment matrix...\n",
      "Reduced number of SDP variables: 1595595 (done: 100.06%, ETA 00:00:-0.0)\n",
      "\u001b[KProcessing 28/52 constraints..."
     ]
    },
    {
     "name": "stderr",
     "output_type": "stream",
     "text": [
      "Warning: The objective function has a non-zero 48.13246639099264 constant term. It is not included in the SDP objective.\n"
     ]
    },
    {
     "name": "stdout",
     "output_type": "stream",
     "text": [
      "\u001b[KProcessing 52/52 constraints...\n",
      "The problem has 28 commuting, 31 noncommuting Hermitian variables\n",
      "Calculating block structure...\n",
      "Estimated number of SDP variables: 1829\n",
      "Generating moment matrix...\n",
      "Reduced number of SDP variables: 1829829 (done: 100.05%, ETA 00:00:-0.0)\n",
      "\u001b[KProcessing 30/56 constraints..."
     ]
    },
    {
     "name": "stderr",
     "output_type": "stream",
     "text": [
      "Warning: The objective function has a non-zero 108.44367935050181 constant term. It is not included in the SDP objective.\n"
     ]
    },
    {
     "name": "stdout",
     "output_type": "stream",
     "text": [
      "\u001b[KProcessing 56/56 constraints...\n",
      "The problem has 30 commuting, 33 noncommuting Hermitian variables\n",
      "Calculating block structure...\n",
      "Estimated number of SDP variables: 2079\n",
      "Generating moment matrix...\n",
      "Reduced number of SDP variables: 2079079 (done: 100.05%, ETA 00:00:-0.0)\n",
      "\u001b[KProcessing 30/60 constraints..."
     ]
    },
    {
     "name": "stderr",
     "output_type": "stream",
     "text": [
      "Warning: The objective function has a non-zero 23.82780908119006 constant term. It is not included in the SDP objective.\n"
     ]
    },
    {
     "name": "stdout",
     "output_type": "stream",
     "text": [
      "\u001b[KProcessing 60/60 constraints...\n",
      "The problem has 32 commuting, 35 noncommuting Hermitian variables\n",
      "Calculating block structure...\n",
      "Estimated number of SDP variables: 2345\n",
      "Generating moment matrix...\n",
      "Reduced number of SDP variables: 2345345 (done: 100.04%, ETA 00:00:-0.0)\n",
      "\u001b[KProcessing 34/64 constraints..."
     ]
    },
    {
     "name": "stderr",
     "output_type": "stream",
     "text": [
      "Warning: The objective function has a non-zero 41.06901336868687 constant term. It is not included in the SDP objective.\n"
     ]
    },
    {
     "name": "stdout",
     "output_type": "stream",
     "text": [
      "\u001b[KProcessing 64/64 constraints...\n",
      "The problem has 34 commuting, 37 noncommuting Hermitian variables\n",
      "Calculating block structure...\n",
      "Estimated number of SDP variables: 2627\n",
      "Generating moment matrix...\n",
      "Reduced number of SDP variables: 2627627 (done: 100.04%, ETA 00:00:-0.0)\n",
      "\u001b[KProcessing 29/68 constraints..."
     ]
    },
    {
     "name": "stderr",
     "output_type": "stream",
     "text": [
      "Warning: The objective function has a non-zero 80.34924091666605 constant term. It is not included in the SDP objective.\n"
     ]
    },
    {
     "name": "stdout",
     "output_type": "stream",
     "text": [
      "\u001b[KProcessing 68/68 constraints...\n",
      "The problem has 36 commuting, 39 noncommuting Hermitian variables\n",
      "Calculating block structure...\n",
      "Estimated number of SDP variables: 2925\n",
      "Generating moment matrix...\n",
      "Reduced number of SDP variables: 2925925 (done: 100.03%, ETA 00:00:-0.0)\n",
      "\u001b[KProcessing 33/72 constraints..."
     ]
    },
    {
     "name": "stderr",
     "output_type": "stream",
     "text": [
      "Warning: The objective function has a non-zero 42.033698336149 constant term. It is not included in the SDP objective.\n"
     ]
    },
    {
     "name": "stdout",
     "output_type": "stream",
     "text": [
      "\u001b[KProcessing 72/72 constraints...\n",
      "The problem has 38 commuting, 41 noncommuting Hermitian variables\n",
      "Calculating block structure...\n",
      "Estimated number of SDP variables: 3239\n",
      "Generating moment matrix...\n",
      "Reduced number of SDP variables: 3239239 (done: 100.03%, ETA 00:00:-0.0)\n",
      "\u001b[KProcessing 32/76 constraints..."
     ]
    },
    {
     "name": "stderr",
     "output_type": "stream",
     "text": [
      "Warning: The objective function has a non-zero 738.4032075480172 constant term. It is not included in the SDP objective.\n"
     ]
    },
    {
     "name": "stdout",
     "output_type": "stream",
     "text": [
      "\u001b[KProcessing 76/76 constraints...\n",
      "The problem has 40 commuting, 43 noncommuting Hermitian variables\n",
      "Calculating block structure...\n",
      "Estimated number of SDP variables: 3569\n",
      "Generating moment matrix...\n",
      "Reduced number of SDP variables: 3569569 (done: 100.03%, ETA 00:00:-0.0)\n",
      "\u001b[KProcessing 31/80 constraints..."
     ]
    },
    {
     "name": "stderr",
     "output_type": "stream",
     "text": [
      "Warning: The objective function has a non-zero 112.83575491604547 constant term. It is not included in the SDP objective.\n"
     ]
    },
    {
     "name": "stdout",
     "output_type": "stream",
     "text": [
      "\u001b[KProcessing 80/80 constraints...\n",
      "The problem has 42 commuting, 45 noncommuting Hermitian variables\n",
      "Calculating block structure...\n",
      "Estimated number of SDP variables: 3915\n",
      "Generating moment matrix...\n",
      "Reduced number of SDP variables: 3915915 (done: 100.03%, ETA 00:00:-0.0)\n",
      "\u001b[KProcessing 25/84 constraints..."
     ]
    },
    {
     "name": "stderr",
     "output_type": "stream",
     "text": [
      "Warning: The objective function has a non-zero 719.1744538073632 constant term. It is not included in the SDP objective.\n"
     ]
    },
    {
     "name": "stdout",
     "output_type": "stream",
     "text": [
      "\u001b[KProcessing 84/84 constraints...\n",
      "The problem has 44 commuting, 47 noncommuting Hermitian variables\n",
      "Calculating block structure...\n",
      "Estimated number of SDP variables: 4277\n",
      "Generating moment matrix...\n",
      "Reduced number of SDP variables: 4277277 (done: 100.02%, ETA 00:00:-0.0)\n",
      "\u001b[KProcessing 44/88 constraints..."
     ]
    },
    {
     "name": "stderr",
     "output_type": "stream",
     "text": [
      "Warning: The objective function has a non-zero 69.12134682184035 constant term. It is not included in the SDP objective.\n"
     ]
    },
    {
     "name": "stdout",
     "output_type": "stream",
     "text": [
      "\u001b[KProcessing 88/88 constraints...\n",
      "The problem has 46 commuting, 49 noncommuting Hermitian variables\n",
      "Calculating block structure...\n",
      "Estimated number of SDP variables: 4655\n",
      "Generating moment matrix...\n",
      "Reduced number of SDP variables: 4655655 (done: 100.02%, ETA 00:00:-0.0)\n",
      "\u001b[KProcessing 41/92 constraints..."
     ]
    },
    {
     "name": "stderr",
     "output_type": "stream",
     "text": [
      "Warning: The objective function has a non-zero 419.8750254318297 constant term. It is not included in the SDP objective.\n"
     ]
    },
    {
     "name": "stdout",
     "output_type": "stream",
     "text": [
      "\u001b[KProcessing 92/92 constraints...\n",
      "The problem has 48 commuting, 51 noncommuting Hermitian variables\n",
      "Calculating block structure...\n",
      "Estimated number of SDP variables: 5049\n",
      "Generating moment matrix...\n",
      "Reduced number of SDP variables: 5049049 (done: 100.02%, ETA 00:00:-0.0)\n",
      "\u001b[KProcessing 27/96 constraints..."
     ]
    },
    {
     "name": "stderr",
     "output_type": "stream",
     "text": [
      "Warning: The objective function has a non-zero 170.02188299664877 constant term. It is not included in the SDP objective.\n"
     ]
    },
    {
     "name": "stdout",
     "output_type": "stream",
     "text": [
      "\u001b[KProcessing 96/96 constraints...\n",
      "The problem has 50 commuting, 53 noncommuting Hermitian variables\n",
      "Calculating block structure...\n",
      "Estimated number of SDP variables: 5459\n",
      "Generating moment matrix...\n",
      "Reduced number of SDP variables: 5459459 (done: 100.02%, ETA 00:00:-0.0)\n",
      "\u001b[KProcessing 32/100 constraints..."
     ]
    },
    {
     "name": "stderr",
     "output_type": "stream",
     "text": [
      "Warning: The objective function has a non-zero 154.22469870741193 constant term. It is not included in the SDP objective.\n"
     ]
    },
    {
     "name": "stdout",
     "output_type": "stream",
     "text": [
      "\u001b[KProcessing 100/100 constraints...\n",
      "The problem has 52 commuting, 55 noncommuting Hermitian variables\n",
      "Calculating block structure...\n",
      "Estimated number of SDP variables: 5885\n",
      "Generating moment matrix...\n",
      "Reduced number of SDP variables: 5885885 (done: 100.02%, ETA 00:00:-0.0)\n",
      "\u001b[KProcessing 35/104 constraints..."
     ]
    },
    {
     "name": "stderr",
     "output_type": "stream",
     "text": [
      "Warning: The objective function has a non-zero 159.4632073729626 constant term. It is not included in the SDP objective.\n"
     ]
    },
    {
     "name": "stdout",
     "output_type": "stream",
     "text": [
      "\u001b[KProcessing 104/104 constraints...\n",
      "The problem has 54 commuting, 57 noncommuting Hermitian variables\n",
      "Calculating block structure...\n",
      "Estimated number of SDP variables: 6327\n",
      "Generating moment matrix...\n",
      "Reduced number of SDP variables: 6327327 (done: 100.02%, ETA 00:00:-0.0)\n",
      "\u001b[KProcessing 36/108 constraints..."
     ]
    },
    {
     "name": "stderr",
     "output_type": "stream",
     "text": [
      "Warning: The objective function has a non-zero 62.58457149410253 constant term. It is not included in the SDP objective.\n"
     ]
    },
    {
     "name": "stdout",
     "output_type": "stream",
     "text": [
      "\u001b[KProcessing 108/108 constraints...\n",
      "The problem has 56 commuting, 59 noncommuting Hermitian variables\n",
      "Calculating block structure...\n",
      "Estimated number of SDP variables: 6785\n",
      "Generating moment matrix...\n",
      "Reduced number of SDP variables: 6785785 (done: 100.01%, ETA 00:00:-0.0)\n",
      "\u001b[KProcessing 31/112 constraints..."
     ]
    },
    {
     "name": "stderr",
     "output_type": "stream",
     "text": [
      "Warning: The objective function has a non-zero 59.274578018692765 constant term. It is not included in the SDP objective.\n"
     ]
    },
    {
     "name": "stdout",
     "output_type": "stream",
     "text": [
      "\u001b[KProcessing 112/112 constraints...\n",
      "The problem has 58 commuting, 61 noncommuting Hermitian variables\n",
      "Calculating block structure...\n",
      "Estimated number of SDP variables: 7259\n",
      "Generating moment matrix...\n",
      "Reduced number of SDP variables: 7259259 (done: 100.01%, ETA 00:00:-0.0)\n",
      "\u001b[KProcessing 33/116 constraints..."
     ]
    },
    {
     "name": "stderr",
     "output_type": "stream",
     "text": [
      "Warning: The objective function has a non-zero 242.62722252412348 constant term. It is not included in the SDP objective.\n"
     ]
    },
    {
     "name": "stdout",
     "output_type": "stream",
     "text": [
      "\u001b[KProcessing 116/116 constraints...\n",
      "The problem has 60 commuting, 63 noncommuting Hermitian variables\n",
      "Calculating block structure...\n",
      "Estimated number of SDP variables: 7749\n",
      "Generating moment matrix...\n",
      "Reduced number of SDP variables: 7749749 (done: 100.01%, ETA 00:00:-0.0)\n",
      "\u001b[KProcessing 30/120 constraints..."
     ]
    },
    {
     "name": "stderr",
     "output_type": "stream",
     "text": [
      "Warning: The objective function has a non-zero 463.46550210923317 constant term. It is not included in the SDP objective.\n"
     ]
    },
    {
     "name": "stdout",
     "output_type": "stream",
     "text": [
      "\u001b[KProcessing 120/120 constraints...\n"
     ]
    }
   ],
   "source": [
    "for T in range(6,31):\n",
    "    Y=data_generation(g,f_dash,proc_noise_std,obs_noise_std,T)\n",
    "    SimCom_sparsity(Y,T,level)"
   ]
  },
  {
   "cell_type": "code",
   "execution_count": 2,
   "metadata": {},
   "outputs": [],
   "source": [
    "z1=[]\n",
    "z2=[]\n",
    "for T in range(5,31):\n",
    "\n",
    "    with open('data/sdpa_'+str(T)+'.dat-s') as f:\n",
    "        lines = f.readlines()\n",
    "    \n",
    "    x=int(lines[1][0:lines[1].find('=')])\n",
    "    y=len(lines)\n",
    "    z1+=[x**2]\n",
    "    z2+=[(y-5)*2]"
   ]
  },
  {
   "cell_type": "code",
   "execution_count": 3,
   "metadata": {},
   "outputs": [],
   "source": [
    "df = pd.DataFrame(data={\"col1\":z1, \"col2\": z2})\n",
    "df.to_csv(\"data/sparsity.csv\", sep=',',index=False)"
   ]
  }
 ],
 "metadata": {
  "kernelspec": {
   "display_name": "Python 3",
   "language": "python",
   "name": "python3"
  },
  "language_info": {
   "codemirror_mode": {
    "name": "ipython",
    "version": 3
   },
   "file_extension": ".py",
   "mimetype": "text/x-python",
   "name": "python",
   "nbconvert_exporter": "python",
   "pygments_lexer": "ipython3",
   "version": "3.8.5"
  }
 },
 "nbformat": 4,
 "nbformat_minor": 4
}
